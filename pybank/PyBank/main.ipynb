{
 "cells": [
  {
   "cell_type": "code",
   "execution_count": 13,
   "metadata": {},
   "outputs": [
    {
     "name": "stdout",
     "output_type": "stream",
     "text": [
      "Financial Analysis\n",
      "----------------------------\n",
      "Total Months: 86\n",
      "Total: 38382578\n",
      "Average Change: $-2315.12\n",
      "Greatest Increase in Profits: Feb-2012 $1926159\n",
      "Greatest Decrease in Profits: Sep-2013 $-2196167\n"
     ]
    }
   ],
   "source": [
    "import csv\n",
    "import sys\n",
    "file = open(\"./Resources/budget_data.csv\")\n",
    "csvreader = csv.reader(file)\n",
    "header = next(csvreader)\n",
    "rows = []\n",
    "total = 0\n",
    "for row in csvreader:\n",
    "    rows.append(row)\n",
    "    profit = int(row[1])\n",
    "    total += profit\n",
    "monthCnt = len(rows)\n",
    "\n",
    "print(\"Financial Analysis\")\n",
    "print(\"----------------------------\")\n",
    "print(f\"Total Months: {monthCnt}\")\n",
    "print(f\"Total: {total}\")\n",
    "\n",
    "maxChange = sys.float_info.min\n",
    "minChange = sys.float_info.max\n",
    "totalChange = 0\n",
    "maxChangeMonth = \"\"\n",
    "minChangeMonth = \"\"\n",
    "for index in range(1, len(rows)):\n",
    "    change = int(rows[index][1]) - int(rows[index - 1][1])\n",
    "    if (change > maxChange):\n",
    "        maxChange = change\n",
    "        maxChangeMonth = rows[index][0]\n",
    "    if (change < minChange):\n",
    "        minChange = change\n",
    "        minChangeMonth = rows[index][0]\n",
    "    totalChange += change\n",
    "averageChange = round(totalChange / (len(rows) - 1), 2)\n",
    "print(f\"Average Change: ${averageChange}\")\n",
    "print(f\"Greatest Increase in Profits: {maxChangeMonth} ${maxChange}\")\n",
    "print(f\"Greatest Decrease in Profits: {minChangeMonth} ${minChange}\")\n",
    "file.close()"
   ]
  }
 ],
 "metadata": {
  "interpreter": {
   "hash": "397704579725e15f5c7cb49fe5f0341eb7531c82d19f2c29d197e8b64ab5776b"
  },
  "kernelspec": {
   "display_name": "Python 3.9.6 64-bit",
   "language": "python",
   "name": "python3"
  },
  "language_info": {
   "codemirror_mode": {
    "name": "ipython",
    "version": 3
   },
   "file_extension": ".py",
   "mimetype": "text/x-python",
   "name": "python",
   "nbconvert_exporter": "python",
   "pygments_lexer": "ipython3",
   "version": "3.9.6"
  },
  "orig_nbformat": 4
 },
 "nbformat": 4,
 "nbformat_minor": 2
}
